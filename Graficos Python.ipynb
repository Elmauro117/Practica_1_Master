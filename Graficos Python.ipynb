{
 "cells": [
  {
   "cell_type": "markdown",
   "id": "0398b9a8",
   "metadata": {},
   "source": [
    "### Listas c++"
   ]
  },
  {
   "cell_type": "code",
   "execution_count": 12,
   "id": "28fb0e6c",
   "metadata": {},
   "outputs": [],
   "source": [
    "#Listas c++\n",
    "## Tiempos Bubble\n",
    "c_tiempos_bubble =[[0,\n",
    "0,\n",
    "0,\n",
    "0,\n",
    "0\n",
    "],\n",
    " [0.001,\n",
    "0.003,\n",
    "0.002,\n",
    "0.002,\n",
    "0.001\n",
    "],\n",
    " [0.006,\n",
    "0.006,\n",
    "0.006,\n",
    "0.006,\n",
    "0.006\n",
    "],\n",
    " [0.015,\n",
    "0.014,\n",
    "0.015,\n",
    "0.014,\n",
    "0.015\n",
    "],\n",
    " [0.026,\n",
    "0.025,\n",
    "0.025,\n",
    "0.025,\n",
    "0.026\n",
    "],\n",
    " [0.039,\n",
    "0.039,\n",
    "0.04,\n",
    "0.04,\n",
    "0.04\n",
    "],\n",
    " [0.058,\n",
    "0.058,\n",
    "0.057,\n",
    "0.058,\n",
    "0.058\n",
    "],\n",
    " [0.079,\n",
    "0.08,\n",
    "0.08,\n",
    "0.081,\n",
    "0.08\n",
    "],\n",
    " [0.107,\n",
    "0.107,\n",
    "0.106,\n",
    "0.106,\n",
    "0.107\n",
    "],\n",
    " [0.139,\n",
    "0.137,\n",
    "0.138,\n",
    "0.139,\n",
    "0.138\n",
    "],\n",
    " [0.173,\n",
    "0.173,\n",
    "0.175,\n",
    "0.174,\n",
    "0.173\n",
    "],\n",
    " [0.825,\n",
    "0.821,\n",
    "0.823,\n",
    "0.822,\n",
    "0.818\n",
    "],\n",
    " [2.018,\n",
    "2.005,\n",
    "2.006,\n",
    "2.016,\n",
    "2.009\n",
    "],\n",
    " [3.721,\n",
    "3.722,\n",
    "3.712,\n",
    "3.702,\n",
    "3.717\n",
    "],\n",
    " [5.931,\n",
    "5.922,\n",
    "5.929,\n",
    "5.927,\n",
    "5.926\n",
    "]]"
   ]
  },
  {
   "cell_type": "code",
   "execution_count": 13,
   "id": "af585bbb",
   "metadata": {},
   "outputs": [],
   "source": [
    "## Tiempos Merge\n",
    "c_tiempos_merge =[[0,\n",
    "0,\n",
    "0,\n",
    "0,\n",
    "0\n",
    "],\n",
    " [0.001,\n",
    "0,\n",
    "0,\n",
    "0,\n",
    "0\n",
    "],\n",
    " [0,\n",
    "0.001,\n",
    "0,\n",
    "0,\n",
    "0\n",
    "],\n",
    " [0,\n",
    "0.001,\n",
    "0,\n",
    "0,\n",
    "0\n",
    "],\n",
    " [0,\n",
    "0.001,\n",
    "0,\n",
    "0,\n",
    "0\n",
    "],\n",
    " [0.001,\n",
    "0.001,\n",
    "0,\n",
    "0.001,\n",
    "0.001\n",
    "],\n",
    " [0,\n",
    "0.001,\n",
    "0.001,\n",
    "0,\n",
    "0\n",
    "],\n",
    " [0,\n",
    "0,\n",
    "0.001,\n",
    "0.001,\n",
    "0.001\n",
    "\n",
    "],\n",
    " [0.001,\n",
    "0.001,\n",
    "0.001,\n",
    "0.001,\n",
    "0.001\n",
    "\n",
    "],\n",
    " [0.001,\n",
    "0,\n",
    "0.001,\n",
    "0.001,\n",
    "0.001\n",
    "\n",
    "],\n",
    " [0.001,\n",
    "0.001,\n",
    "0.001,\n",
    "0.001,\n",
    "0.001\n",
    "\n",
    "],\n",
    " [0.002,\n",
    "0.002,\n",
    "0.002,\n",
    "0.002,\n",
    "0.002\n",
    "\n",
    "],\n",
    " [0.003,\n",
    "0.003,\n",
    "0.003,\n",
    "0.003,\n",
    "0.003\n",
    "\n",
    "],\n",
    " [0.004,\n",
    "0.004,\n",
    "0.004,\n",
    "0.004,\n",
    "0.005\n",
    "\n",
    "],\n",
    " [0.006,\n",
    "0.005,\n",
    "0.005,\n",
    "0.006,\n",
    "0.005\n",
    "\n",
    "]]"
   ]
  },
  {
   "cell_type": "code",
   "execution_count": 14,
   "id": "7aedd52c",
   "metadata": {},
   "outputs": [],
   "source": [
    "## Teimpos Selection\n",
    "c_tiempos_selection =[[0,\n",
    "0,\n",
    "0,\n",
    "0,\n",
    "0\n",
    "],\n",
    " [0.001,\n",
    "0.001,\n",
    "0.001,\n",
    "0,\n",
    "0\n",
    "\n",
    "],\n",
    " [0.002,\n",
    "0.002,\n",
    "0.002,\n",
    "0.002,\n",
    "0.002\n",
    "\n",
    "],\n",
    " [0.006,\n",
    "0.006,\n",
    "0.006,\n",
    "0.006,\n",
    "0.006\n",
    "\n",
    "],\n",
    " [0.011,\n",
    "0.011,\n",
    "0.012,\n",
    "0.011,\n",
    "0.011\n",
    "\n",
    "],\n",
    " [0.017,\n",
    "0.017,\n",
    "0.018,\n",
    "0.017,\n",
    "0.018\n",
    "\n",
    "],\n",
    " [0.025,\n",
    "0.025,\n",
    "0.025,\n",
    "0.025,\n",
    "0.025\n",
    "\n",
    "],\n",
    " [0.034,\n",
    "0.033,\n",
    "0.033,\n",
    "0.033,\n",
    "0.034\n",
    "\n",
    "\n",
    "],\n",
    " [0.044,\n",
    "0.044,\n",
    "0.044,\n",
    "0.044,\n",
    "0.044\n",
    "\n",
    "\n",
    "],\n",
    " [0.056,\n",
    "0.055,\n",
    "0.056,\n",
    "0.055,\n",
    "0.055\n",
    "\n",
    "\n",
    "],\n",
    " [0.068,\n",
    "0.068,\n",
    "0.068,\n",
    "0.068,\n",
    "0.068\n",
    "\n",
    "\n",
    "],\n",
    " [0.27,\n",
    "0.269,\n",
    "0.269,\n",
    "0.268,\n",
    "0.268\n",
    "\n",
    "\n",
    "],\n",
    " [0.603,\n",
    "0.604,\n",
    "0.601,\n",
    "0.603,\n",
    "0.602\n",
    "\n",
    "\n",
    "],\n",
    " [1.07,\n",
    "1.069,\n",
    "1.071,\n",
    "1.07,\n",
    "1.07\n",
    "\n",
    "\n",
    "],\n",
    " [1.674,\n",
    "1.67,\n",
    "1.672,\n",
    "1.672,\n",
    "1.672\n",
    "\n",
    "\n",
    "]]"
   ]
  },
  {
   "cell_type": "code",
   "execution_count": 15,
   "id": "bf40988e",
   "metadata": {},
   "outputs": [],
   "source": [
    "## Teimpos Coutning\n",
    "c_tiempos_counting =[[0,\n",
    "0,\n",
    "0,\n",
    "0,\n",
    "0\n",
    "],\n",
    " [0,\n",
    "0,\n",
    "0,\n",
    "0,\n",
    "0\n",
    "],\n",
    " [0,\n",
    "0,\n",
    "0,\n",
    "0,\n",
    "0\n",
    "],\n",
    "[0,\n",
    "0,\n",
    "0,\n",
    "0,\n",
    "0\n",
    "],\n",
    " [0,\n",
    "0,\n",
    "0,\n",
    "0,\n",
    "0\n",
    "],\n",
    " [0,\n",
    "0,\n",
    "0,\n",
    "0,\n",
    "0\n",
    "],\n",
    " [0,\n",
    "0,\n",
    "0,\n",
    "0.001,\n",
    "0\n",
    "\n",
    "],\n",
    "  [0,\n",
    "0,\n",
    "0,\n",
    "0,\n",
    "0\n",
    "],\n",
    " [0,\n",
    "0.001,\n",
    "0,\n",
    "0,\n",
    "0\n",
    "\n",
    "],\n",
    " [0.001,\n",
    "0,\n",
    "0,\n",
    "0,\n",
    "0\n",
    "],\n",
    " [0,\n",
    "0,\n",
    "0.001,\n",
    "0,\n",
    "0\n",
    "],\n",
    " [0,\n",
    "0,\n",
    "0,\n",
    "0,\n",
    "0.001\n",
    "\n",
    "],\n",
    " [0.001,\n",
    "0.001,\n",
    "0.001,\n",
    "0.001,\n",
    "0.001\n",
    "\n",
    "],\n",
    " [0,\n",
    "0.001,\n",
    "0.001,\n",
    "0.001,\n",
    "0\n",
    "\n",
    "],\n",
    " [0,\n",
    "0.001,\n",
    "0,\n",
    "0.001,\n",
    "  0\n",
    "]]"
   ]
  },
  {
   "cell_type": "code",
   "execution_count": 29,
   "id": "1a5de164",
   "metadata": {
    "scrolled": true
   },
   "outputs": [
    {
     "data": {
      "text/plain": [
       "15"
      ]
     },
     "execution_count": 29,
     "metadata": {},
     "output_type": "execute_result"
    }
   ],
   "source": [
    "len(c_tiempos_bubble)"
   ]
  },
  {
   "cell_type": "code",
   "execution_count": 30,
   "id": "0aeb3376",
   "metadata": {},
   "outputs": [
    {
     "data": {
      "text/plain": [
       "15"
      ]
     },
     "execution_count": 30,
     "metadata": {},
     "output_type": "execute_result"
    }
   ],
   "source": [
    "len(c_tiempos_merge)"
   ]
  },
  {
   "cell_type": "code",
   "execution_count": 31,
   "id": "afe44f9e",
   "metadata": {},
   "outputs": [
    {
     "data": {
      "text/plain": [
       "15"
      ]
     },
     "execution_count": 31,
     "metadata": {},
     "output_type": "execute_result"
    }
   ],
   "source": [
    "len(c_tiempos_selection)"
   ]
  },
  {
   "cell_type": "code",
   "execution_count": 32,
   "id": "0ff2fc9f",
   "metadata": {
    "scrolled": true
   },
   "outputs": [
    {
     "data": {
      "text/plain": [
       "15"
      ]
     },
     "execution_count": 32,
     "metadata": {},
     "output_type": "execute_result"
    }
   ],
   "source": [
    "len(c_tiempos_counting)"
   ]
  },
  {
   "cell_type": "markdown",
   "id": "bd662132",
   "metadata": {},
   "source": [
    "### Listas de Go"
   ]
  },
  {
   "cell_type": "code",
   "execution_count": 19,
   "id": "7a5e1aa5",
   "metadata": {},
   "outputs": [],
   "source": [
    "#Listas Go\n",
    "## Tiempos Bubble\n",
    "go_tiempos_bubble =[[0,\n",
    "0,\n",
    "0,\n",
    "0,\n",
    "0\n",
    ",\n",
    "],[0.0010453,\n",
    "0.0005778,\n",
    "0.0005313,\n",
    "0.0010452,\n",
    "0.0005101\n",
    "\n",
    "\n",
    "], [0.0021719,\n",
    "0.0020865,\n",
    "0.0020613,\n",
    "0.0020937,\n",
    "0.0021299\n",
    "\n",
    "],\n",
    " [0.0050006,\n",
    "0.004001,\n",
    "0.0050018,\n",
    "0.0040007,\n",
    "0.0050008\n",
    "\n",
    "],\n",
    " [0.0080024,\n",
    "0.0079826,\n",
    "0.0080019,\n",
    "0.008002,\n",
    "0.0081393\n",
    "\n",
    "],\n",
    " [0.0120036,\n",
    "0.0160029,\n",
    "0.0140032,\n",
    "0.0132853,\n",
    "0.0115819\n",
    "\n",
    "],\n",
    " [0.0200049,\n",
    "0.0180036,\n",
    "0.0180056,\n",
    "0.0183817,\n",
    "0.0190069\n",
    "\n",
    "],\n",
    " [0.0250096,\n",
    "0.0255142,\n",
    "0.025556,\n",
    "0.0255128,\n",
    "0.0250056\n",
    "\n",
    "],\n",
    " [0.0360107,\n",
    "0.034516,\n",
    "0.0340077,\n",
    "0.0340101,\n",
    "0.0345172\n",
    "\n",
    "],\n",
    " [0.0450107,\n",
    "0.044012,\n",
    "0.0450692,\n",
    "0.0440097,\n",
    "0.0455974\n",
    "\n",
    "],\n",
    " [0.0590133,\n",
    "0.0575219,\n",
    "0.0565195,\n",
    "0.059526,\n",
    "0.0580124\n",
    "\n",
    "],\n",
    " [0.3855297,\n",
    "0.37843,\n",
    "0.3810411,\n",
    "0.3750026,\n",
    "0.3775438\n",
    "\n",
    "],\n",
    " [1.0279925,\n",
    "1.0388007,\n",
    "1.030081,\n",
    "1.0247681,\n",
    "1.0354946\n",
    "\n",
    "],\n",
    " [1.9902898,\n",
    "1.972015,\n",
    "1.9745918,\n",
    "1.9750668,\n",
    "1.9850828\n",
    "\n",
    "],\n",
    " [3.2097714,\n",
    "3.2026977,\n",
    "3.1442396,\n",
    "3.1387689,\n",
    "3.1358044\n",
    "]]"
   ]
  },
  {
   "cell_type": "code",
   "execution_count": 20,
   "id": "ac8fe7fb",
   "metadata": {},
   "outputs": [],
   "source": [
    "## Teimpos Merge\n",
    "go_tiempos_merge =[[0,\n",
    "0,\n",
    "0,\n",
    "0,\n",
    "0\n",
    "],\n",
    " [0.0005241,\n",
    "0,\n",
    "0.0000164,\n",
    "0,\n",
    "0.0000121,\n",
    "\n",
    "\n",
    "],\n",
    " [0.0005305,\n",
    "0.0005234,\n",
    "0.0005193,\n",
    "0.0005178,\n",
    "0\n",
    "\n",
    "\n",
    "],\n",
    "[0.0010007,\n",
    "0.001,\n",
    "0,\n",
    "0.0009994,\n",
    "0\n",
    "\n",
    "],\n",
    " [0,\n",
    "0.0009998,\n",
    "0.0010004,\n",
    "0,\n",
    "0.0009991\n",
    "\n",
    "],\n",
    " [0.0010001,\n",
    "0.0020003,\n",
    "0.001001,\n",
    "0,\n",
    "0.0009997\n",
    "\n",
    "\n",
    "],\n",
    " [0.0010009,\n",
    "0.0010002,\n",
    "0.0010001,\n",
    "0.0009999,\n",
    "0.0019999\n",
    "\n",
    "],\n",
    "  [0.0020007,\n",
    "0.0010008,\n",
    "0.0010006,\n",
    "0.0009993,\n",
    "0.0010003\n",
    "\n",
    "],\n",
    " [0.001,\n",
    "0.0009993,\n",
    "0.0010001,\n",
    "0.0010004,\n",
    "0.0009998\n",
    "\n",
    "],\n",
    " [0.0010005,\n",
    "0.0020002,\n",
    "0.0020017,\n",
    "0.002,\n",
    "0.0020006\n",
    "\n",
    "],\n",
    " [0.0020011,\n",
    "0.0019993,\n",
    "0.0020002,\n",
    "0.0020005,\n",
    "0.002001\n",
    "\n",
    "],\n",
    " [0.0030015,\n",
    "0.0040017,\n",
    "0.0040006,\n",
    "0.0035083,\n",
    "0.0040013\n",
    "\n",
    "],\n",
    " [0.0060007,\n",
    "0.0060054,\n",
    "0.0070005,\n",
    "0.0080026,\n",
    "0.0072751\n",
    "\n",
    "],\n",
    " [0.0087332,\n",
    "0.0083293,\n",
    "0.0083756,\n",
    "0.0089078,\n",
    "0.0080372\n",
    "\n",
    "],\n",
    " [0.0110031,\n",
    "0.0090022,\n",
    "0.0100027,\n",
    "0.010525,\n",
    "0.0110022\n",
    "\n",
    "]]"
   ]
  },
  {
   "cell_type": "code",
   "execution_count": 21,
   "id": "7fb3663a",
   "metadata": {},
   "outputs": [],
   "source": [
    "## Teimpos Selection\n",
    "go_tiempos_selection = [[0,0,0,0,0], [0.0005223,\n",
    "0.0005218,\n",
    "0,\n",
    "0.0005245,\n",
    "0.0005221\n",
    "],\n",
    " [0.0015689,\n",
    "0.0015507,\n",
    "0.0015763,\n",
    "0.0015674,\n",
    "0.0015059\n",
    "],\n",
    "[0.0030028,\n",
    "0.0029997,\n",
    "0.0040003,\n",
    "0.0030001,\n",
    "0.003002\n",
    "], [\n",
    " 0.0060025,\n",
    "0.0060006,\n",
    "0.0060022,\n",
    "0.0070008,\n",
    "0.0060014\n",
    "], [0.0096443,\n",
    "0.0095079,\n",
    "0.0095084,\n",
    "0.0090013,\n",
    "0.0100028\n",
    "], [0.0130034,\n",
    "0.0140032,\n",
    "0.0130026,\n",
    "0.0140061,\n",
    "0.0135234\n",
    "], [0.0230043,\n",
    "0.0205145,\n",
    "0.0185106,\n",
    "0.0180041,\n",
    "0.0190042\n",
    "],\n",
    " [0.0230052,\n",
    "0.0240062,\n",
    "0.0235101,\n",
    "0.0232524,\n",
    "0.0235171\n",
    "],\n",
    " [0.0305135,\n",
    "0.0300066,\n",
    "0.0296788,\n",
    "0.0314561,\n",
    "0.0300092\n",
    "],\n",
    " [0.0376061,\n",
    "0.0365584,\n",
    "0.0370077,\n",
    "0.036055,\n",
    "0.0370008\n",
    "],\n",
    " [0.1482873,\n",
    "  0.1465566,\n",
    "0.1450485,\n",
    "0.1450482,\n",
    "0.1460037\n",
    "],\n",
    " [0.3346347,\n",
    "0.3301096,\n",
    "0.3309022,\n",
    "0.3309232,\n",
    "0.3320464\n",
    "],\n",
    " [0.5979062,\n",
    "0.5950029,\n",
    "0.5930864,\n",
    "0.6019227,\n",
    "0.5983022\n",
    "], \n",
    "[0.9149702,\n",
    "0.918467,\n",
    "0.9312108,\n",
    "0.9215091,\n",
    "0.9605539]]"
   ]
  },
  {
   "cell_type": "code",
   "execution_count": 22,
   "id": "a6d84147",
   "metadata": {},
   "outputs": [],
   "source": [
    "## Teimpos Counting\n",
    "go_tiempos_counting =[[0,\n",
    "0,\n",
    "0,\n",
    "0,\n",
    "0\n",
    "],\n",
    " [0,\n",
    "0,\n",
    "0,\n",
    "0,\n",
    "0\n",
    "],\n",
    " [0,\n",
    "0,\n",
    "0,\n",
    "0,\n",
    "0\n",
    "],\n",
    "[0.000999,\n",
    "0,\n",
    "0,\n",
    "0,\n",
    "0\n",
    "],\n",
    " [0,\n",
    "0,\n",
    "0,\n",
    "0,\n",
    "0\n",
    "],\n",
    " [0,\n",
    "0,\n",
    "0,\n",
    "0,\n",
    "0\n",
    "],\n",
    " [0,\n",
    "0,\n",
    "0,\n",
    "0,\n",
    "0\n",
    "],\n",
    "  [0,\n",
    "0,\n",
    "0,\n",
    "0,\n",
    "0\n",
    "],\n",
    " [0,\n",
    "0,\n",
    "0,\n",
    "0,\n",
    "0\n",
    "],\n",
    " [0,\n",
    "0,\n",
    "0.0010009,\n",
    "0,\n",
    "0\n",
    "],\n",
    " [0.0009996,\n",
    "0,\n",
    "0,\n",
    "0,\n",
    "0\n",
    "],\n",
    " [0,\n",
    "0,\n",
    "0,\n",
    "0,\n",
    "0\n",
    "],\n",
    " [0,\n",
    "0,\n",
    "0,\n",
    "0,\n",
    "0\n",
    "],\n",
    " [0.0009947,\n",
    "0,\n",
    "0,\n",
    "0,\n",
    "0\n",
    "],\n",
    " [0.0010017,\n",
    "0.0009995,\n",
    "0.0010008,\n",
    "0.0010005,\n",
    "0.0009989\n",
    "]]"
   ]
  },
  {
   "cell_type": "code",
   "execution_count": 25,
   "id": "0a28e00b",
   "metadata": {
    "scrolled": true
   },
   "outputs": [
    {
     "data": {
      "text/plain": [
       "15"
      ]
     },
     "execution_count": 25,
     "metadata": {},
     "output_type": "execute_result"
    }
   ],
   "source": [
    "len(go_tiempos_bubble)"
   ]
  },
  {
   "cell_type": "code",
   "execution_count": 26,
   "id": "ec13a83d",
   "metadata": {},
   "outputs": [
    {
     "data": {
      "text/plain": [
       "15"
      ]
     },
     "execution_count": 26,
     "metadata": {},
     "output_type": "execute_result"
    }
   ],
   "source": [
    "len(go_tiempos_merge)"
   ]
  },
  {
   "cell_type": "code",
   "execution_count": 27,
   "id": "7e878b4d",
   "metadata": {},
   "outputs": [
    {
     "data": {
      "text/plain": [
       "15"
      ]
     },
     "execution_count": 27,
     "metadata": {},
     "output_type": "execute_result"
    }
   ],
   "source": [
    "len(go_tiempos_selection)"
   ]
  },
  {
   "cell_type": "code",
   "execution_count": 28,
   "id": "1fe2bded",
   "metadata": {
    "scrolled": true
   },
   "outputs": [
    {
     "data": {
      "text/plain": [
       "15"
      ]
     },
     "execution_count": 28,
     "metadata": {},
     "output_type": "execute_result"
    }
   ],
   "source": [
    "len(go_tiempos_counting)"
   ]
  },
  {
   "cell_type": "markdown",
   "id": "0229ee20",
   "metadata": {},
   "source": [
    "### Promedios Python"
   ]
  },
  {
   "cell_type": "code",
   "execution_count": 33,
   "id": "ac8f413a",
   "metadata": {},
   "outputs": [],
   "source": [
    "lista_promedio_bubble =  [0.0006370199960656464, 0.07142907999223098, 0.3127250600024126, 0.7253236399963499, 1.3223082999931648, 2.1059670800110326, 3.0186925200046972, 4.077137100009713, 5.357379860000219, 6.744879640021827, 8.067697459994815, 31.980132480023894, 71.92262963999528, 132.01200366000413, 208.47591371998425]\n",
    "lista_promedio_Merge = [0.0003147799987345934, 0.0030120399896986783, 0.0063702800078317525, 0.010385940002743154, 0.01448218000587076, 0.019312599999830128, 0.024275759991724044, 0.028834239998832344, 0.033690440002828836, 0.03997215999988839, 0.04488445998867974, 0.1066795399878174, 0.18940909998491406, 0.3031990199931897, 0.42263701998163017]\n",
    "lista_promedio_selection = [0.00044958001235499977, 0.03741121998755261, 0.1483673599897884, 0.34612812000559645, 0.6156592199928127, 0.962505979987327, 1.37671616000589, 1.86980884000659, 2.4560267599881627, 3.088124600017909, 3.729589080007281, 14.6120754799922, 32.80317598000401, 60.218272679985965, 96.17473060000921]\n",
    "lista_promedio_counting = [5.315999733284116e-05, 0.00038534000050276517, 0.0007883800193667412, 0.0012259199982509017, 0.0015831399941816926, 0.001968719996511936, 0.0023592000012286007, 0.002869119984097779, 0.0035828399937599897, 0.003969000012148172, 0.0039617200149223205, 0.0077274800045415756, 0.011797180003486573, 0.016303300007712095, 0.020498799998313187]"
   ]
  },
  {
   "cell_type": "code",
   "execution_count": 34,
   "id": "34416f6e",
   "metadata": {},
   "outputs": [
    {
     "data": {
      "text/plain": [
       "15"
      ]
     },
     "execution_count": 34,
     "metadata": {},
     "output_type": "execute_result"
    }
   ],
   "source": [
    "len(lista_promedio_Merge)"
   ]
  },
  {
   "cell_type": "markdown",
   "id": "fb21db3b",
   "metadata": {},
   "source": [
    "### Promedios de tiempos de C++ y Golang"
   ]
  },
  {
   "cell_type": "code",
   "execution_count": 35,
   "id": "fcf07ace",
   "metadata": {},
   "outputs": [],
   "source": [
    "import numpy as np\n",
    "\n",
    "## CPP listas promedios\n",
    "lista_promedio_bubble_c = []\n",
    "lista_promedio_Merge_c = []\n",
    "lista_promedio_selection_c = []\n",
    "lista_promedio_counting_c = []\n",
    "\n",
    "# CPP listas STD\n",
    "lista_std_bubble_c = []\n",
    "lista_std_Merge_c = []\n",
    "lista_std_selection_c = []\n",
    "lista_std_counting_c = []\n",
    "\n",
    "# Promedio y Desvest de cada tiempo de las 5 runs de cada lista.\n",
    "\n",
    "for k in c_tiempos_bubble:    \n",
    "    promedio = np.average(k)\n",
    "    lista_promedio_bubble_c.append(promedio) # Promedio de tiempo de las 5 runs de cada Lista\n",
    "    \n",
    "    st_dev = np.std(k)\n",
    "    lista_std_bubble_c.append(st_dev) # Desvest de las 5 runs de cada Lista\n",
    "    \n",
    "for k in c_tiempos_merge:    \n",
    "    promedio = np.average(k)\n",
    "    lista_promedio_Merge_c.append(promedio) # Promedio de tiempo de las 5 runs de cada Lista\n",
    "    \n",
    "    st_dev = np.std(k)\n",
    "    lista_std_Merge_c.append(st_dev) # Desvest de las 5 runs de cada Lista\n",
    "    \n",
    "for k in c_tiempos_selection:    \n",
    "    promedio = np.average(k)\n",
    "    lista_promedio_selection_c.append(promedio) # Promedio de tiempo de las 5 runs de cada Lista\n",
    "    \n",
    "    st_dev = np.std(k)\n",
    "    lista_std_selection_c.append(st_dev) # Desvest de las 5 runs de cada Lista\n",
    "    \n",
    "for k in c_tiempos_counting:    \n",
    "    promedio = np.average(k)\n",
    "    lista_promedio_counting_c.append(promedio) # Promedio de tiempo de las 5 runs de cada Lista\n",
    "    \n",
    "    st_dev = np.std(k)\n",
    "    lista_std_counting_c.append(st_dev) # Desvest de las 5 runs de cada Lista"
   ]
  },
  {
   "cell_type": "code",
   "execution_count": 36,
   "id": "d9953b88",
   "metadata": {},
   "outputs": [],
   "source": [
    "## Golang listas promedios\n",
    "lista_promedio_bubble_g = []\n",
    "lista_promedio_Merge_g = []\n",
    "lista_promedio_selection_g = []\n",
    "lista_promedio_counting_g = []\n",
    "\n",
    "# Golang listas STD\n",
    "lista_std_bubble_g = []\n",
    "lista_std_Merge_g = []\n",
    "lista_std_selection_g = []\n",
    "lista_std_counting_g = []\n",
    "\n",
    "for k in go_tiempos_bubble:    \n",
    "    promedio = np.average(k)\n",
    "    lista_promedio_bubble_g.append(promedio) # Promedio de tiempo de las 5 runs de cada Lista\n",
    "    \n",
    "    st_dev = np.std(k)\n",
    "    lista_std_bubble_g.append(st_dev) # Desvest de las 5 runs de cada Lista\n",
    "    \n",
    "for k in go_tiempos_merge:    \n",
    "    promedio = np.average(k)\n",
    "    lista_promedio_Merge_g.append(promedio) # Promedio de tiempo de las 5 runs de cada Lista\n",
    "    \n",
    "    st_dev = np.std(k)\n",
    "    lista_std_Merge_g.append(st_dev) # Desvest de las 5 runs de cada Lista\n",
    "    \n",
    "for k in go_tiempos_selection:    \n",
    "    promedio = np.average(k)\n",
    "    lista_promedio_selection_g.append(promedio) # Promedio de tiempo de las 5 runs de cada Lista\n",
    "    \n",
    "    st_dev = np.std(k)\n",
    "    lista_std_selection_g.append(st_dev) # Desvest de las 5 runs de cada Lista\n",
    "    \n",
    "for k in go_tiempos_counting:    \n",
    "    promedio = np.average(k)\n",
    "    lista_promedio_counting_g.append(promedio) # Promedio de tiempo de las 5 runs de cada Lista\n",
    "    \n",
    "    st_dev = np.std(k)\n",
    "    lista_std_counting_g.append(st_dev) # Desvest de las 5 runs de cada Lista"
   ]
  },
  {
   "cell_type": "code",
   "execution_count": 97,
   "id": "9c455d3d",
   "metadata": {},
   "outputs": [
    {
     "name": "stdout",
     "output_type": "stream",
     "text": [
      "[0.0, 0.0018000000000000002, 0.006, 0.014599999999999998, 0.0254, 0.0396, 0.057800000000000004, 0.08, 0.1066, 0.13820000000000002, 0.17359999999999998, 0.8218, 2.0108, 3.7147999999999994, 5.927]\n",
      "* * * * * * * * * * * * * * * * * * * * * * * * * * * * * * * * * * * * * * * * * * * * * * * * * * * * * * * \n",
      "[0.0, 0.0002, 0.0002, 0.0002, 0.0002, 0.0008, 0.0004, 0.0006000000000000001, 0.001, 0.0008, 0.001, 0.002, 0.003, 0.004200000000000001, 0.0054]\n",
      "* * * * * * * * * * * * * * * * * * * * * * * * * * * * * * * * * * * * * * * * * * * * * * * * * * * * * * * \n",
      "[0.0, 0.0006000000000000001, 0.002, 0.006, 0.011199999999999998, 0.017400000000000002, 0.025, 0.0334, 0.044, 0.055400000000000005, 0.068, 0.26880000000000004, 0.6025999999999999, 1.07, 1.672]\n",
      "* * * * * * * * * * * * * * * * * * * * * * * * * * * * * * * * * * * * * * * * * * * * * * * * * * * * * * * \n",
      "[0.0, 0.0, 0.0, 0.0, 0.0, 0.0, 0.0002, 0.0, 0.0002, 0.0002, 0.0002, 0.0002, 0.001, 0.0006000000000000001, 0.0004]\n"
     ]
    }
   ],
   "source": [
    "print(lista_promedio_bubble_c)\n",
    "print(\"* \"*55)\n",
    "print(lista_promedio_Merge_c)\n",
    "print(\"* \"*55)\n",
    "print(lista_promedio_selection_c)\n",
    "print(\"* \"*55)\n",
    "print(lista_promedio_counting_c)\n",
    "\n",
    "### PROMEDIOS C"
   ]
  },
  {
   "cell_type": "code",
   "execution_count": 43,
   "id": "5bf2b765",
   "metadata": {},
   "outputs": [
    {
     "name": "stdout",
     "output_type": "stream",
     "text": [
      "[0.0, 0.0007483314773547883, 0.0, 0.0004898979485566352, 0.0004898979485566344, 0.000489897948556636, 0.00040000000000000034, 0.0006324555320336764, 0.000489897948556636, 0.0007483314773547889, 0.0008000000000000007, 0.0023151673805580472, 0.005268775948927813, 0.007304792947099885, 0.003033150177620755]\n",
      "* * * * * * * * * * * * * * * * * * * * * * * * * * * * * * * * * * * * * * * * * * * * * * * * * * * * * * * \n",
      "[0.0, 0.0004, 0.0004, 0.0004, 0.0004, 0.0004, 0.0004898979485566357, 0.0004898979485566356, 0.0, 0.0004, 0.0, 0.0, 0.0, 0.0004, 0.0004898979485566356]\n",
      "* * * * * * * * * * * * * * * * * * * * * * * * * * * * * * * * * * * * * * * * * * * * * * * * * * * * * * * \n",
      "[0.0, 0.0004898979485566356, 0.0, 0.0, 0.00040000000000000034, 0.0004898979485566344, 0.0, 0.000489897948556636, 0.0, 0.000489897948556636, 0.0, 0.0007483314773547889, 0.0010198039027185578, 0.0006324555320336764, 0.0012649110640673528]\n",
      "* * * * * * * * * * * * * * * * * * * * * * * * * * * * * * * * * * * * * * * * * * * * * * * * * * * * * * * \n",
      "[0.0, 0.0, 0.0, 0.0, 0.0, 0.0, 0.0004, 0.0, 0.0004, 0.0004, 0.0004, 0.0004, 0.0, 0.0004898979485566356, 0.0004898979485566357]\n"
     ]
    }
   ],
   "source": [
    "print(lista_std_bubble_c)\n",
    "print(\"* \"*55)\n",
    "print(lista_std_Merge_c)\n",
    "print(\"* \"*55)\n",
    "print(lista_std_selection_c)\n",
    "print(\"* \"*55)\n",
    "print(lista_std_counting_c)\n",
    "\n",
    "### STD C"
   ]
  },
  {
   "cell_type": "markdown",
   "id": "dcef4a1f",
   "metadata": {},
   "source": [
    "## ---------------------------------------------------------------------------"
   ]
  },
  {
   "cell_type": "code",
   "execution_count": 45,
   "id": "ec5df024",
   "metadata": {},
   "outputs": [
    {
     "name": "stdout",
     "output_type": "stream",
     "text": [
      "[0.0, 0.00074194, 0.00210866, 0.004600979999999999, 0.00802564, 0.013375379999999997, 0.018680540000000002, 0.025319639999999997, 0.034612340000000005, 0.04473980000000001, 0.058118619999999996, 0.37950944, 1.03142738, 1.97940924, 3.1662564]\n",
      "* * * * * * * * * * * * * * * * * * * * * * * * * * * * * * * * * * * * * * * * * * * * * * * * * * * * * * * \n",
      "[0.0, 0.00011051999999999999, 0.0004182, 0.00060002, 0.00059986, 0.00100022, 0.0012001999999999998, 0.0012003399999999998, 0.00099992, 0.0018006, 0.00200042, 0.00370268, 0.006856859999999999, 0.00847662, 0.01030704]\n",
      "* * * * * * * * * * * * * * * * * * * * * * * * * * * * * * * * * * * * * * * * * * * * * * * * * * * * * * * \n",
      "[0.0, 0.00041814, 0.0015538400000000001, 0.00320098, 0.0062014999999999995, 0.00953294, 0.013507739999999999, 0.01980754, 0.0234582, 0.03033284, 0.0368456, 0.14618886, 0.33172322, 0.5972440800000001, 0.9293422]\n",
      "* * * * * * * * * * * * * * * * * * * * * * * * * * * * * * * * * * * * * * * * * * * * * * * * * * * * * * * \n",
      "[0.0, 0.0, 0.0, 0.00019980000000000003, 0.0, 0.0, 0.0, 0.0, 0.0, 0.00020018000000000002, 0.00019992, 0.0, 0.0, 0.00019894000000000002, 0.0010002799999999999]\n"
     ]
    }
   ],
   "source": [
    "print(lista_promedio_bubble_g)\n",
    "print(\"* \"*55)\n",
    "print(lista_promedio_Merge_g)\n",
    "print(\"* \"*55)\n",
    "print(lista_promedio_selection_g)\n",
    "print(\"* \"*55)\n",
    "print(lista_promedio_counting_g)\n",
    "\n",
    "### PROMEDIOS GO"
   ]
  },
  {
   "cell_type": "code",
   "execution_count": 46,
   "id": "41e5da57",
   "metadata": {},
   "outputs": [
    {
     "name": "stdout",
     "output_type": "stream",
     "text": [
      "[0.0, 0.0002486181216243097, 3.849226415787991e-05, 0.0004900042710017942, 5.732987353902005e-05, 0.00157508632068214, 0.0007567743880444151, 0.0002552553043523286, 0.0007351226090932037, 0.0006293024360353297, 0.0010682427615481419, 0.0035757530936013932, 0.005076716974344717, 0.0070329960539161265, 0.03283032139099461]\n",
      "* * * * * * * * * * * * * * * * * * * * * * * * * * * * * * * * * * * * * * * * * * * * * * * * * * * * * * * \n",
      "[0.0, 0.0002068926426918077, 0.0002091463315480336, 0.0004899144513075726, 0.0004897838119007201, 0.0006325505431188878, 0.00039985014192819797, 0.0004001803323503042, 3.655133376499443e-07, 0.0004000504318207893, 6.49307323229991e-07, 0.0003991942304192286, 0.0007702300139568698, 0.0003087871914442051, 0.0007497311214028667]\n",
      "* * * * * * * * * * * * * * * * * * * * * * * * * * * * * * * * * * * * * * * * * * * * * * * * * * * * * * * \n",
      "[0.0, 0.00020907218466357497, 2.538988775083504e-05, 0.0003996616639108635, 0.0003996505473535598, 0.0003215710720820512, 0.0004480209352251301, 0.0018054844940901596, 0.0003328751898234527, 0.0006218190688616743, 0.0005169634223037469, 0.0011978725751932123, 0.0015810778885304872, 0.0030251180706874986, 0.01651571189806845]\n",
      "* * * * * * * * * * * * * * * * * * * * * * * * * * * * * * * * * * * * * * * * * * * * * * * * * * * * * * * \n",
      "[0.0, 0.0, 0.0, 0.00039960000000000006, 0.0, 0.0, 0.0, 0.0, 0.0, 0.00040036000000000005, 0.00039984, 0.0, 0.0, 0.00039788, 9.846826900072664e-07]\n"
     ]
    }
   ],
   "source": [
    "print(lista_std_bubble_g)\n",
    "print(\"* \"*55)\n",
    "print(lista_std_Merge_g)\n",
    "print(\"* \"*55)\n",
    "print(lista_std_selection_g)\n",
    "print(\"* \"*55)\n",
    "print(lista_std_counting_g)\n",
    "\n",
    "### STD GO"
   ]
  },
  {
   "cell_type": "markdown",
   "id": "4d746de1",
   "metadata": {},
   "source": [
    "## Grafico Algoritmos"
   ]
  },
  {
   "cell_type": "code",
   "execution_count": 47,
   "id": "9de0384e",
   "metadata": {},
   "outputs": [],
   "source": [
    "## Lista de listas\n",
    "n_listas = [100, 1000, 2000, 3000, 4000, 5000, 6000, 7000, 8000, 9000, 10000, 20000, 30000, 40000, 50000]"
   ]
  },
  {
   "cell_type": "markdown",
   "id": "ddd950fa",
   "metadata": {},
   "source": [
    "### Gráfico Bubble (Python vs C++ vs Go)"
   ]
  },
  {
   "cell_type": "code",
   "execution_count": 85,
   "id": "efff758f",
   "metadata": {},
   "outputs": [
    {
     "data": {
      "image/png": "[encoded data removed]",
      "text/plain": [
       "<Figure size 640x480 with 1 Axes>"
      ]
     },
     "metadata": {},
     "output_type": "display_data"
    }
   ],
   "source": [
    "import matplotlib.pyplot as plt\n",
    "\n",
    "fig, ax = plt.subplots()\n",
    "\n",
    "## Pyhton\n",
    "ax.plot(n_listas,lista_promedio_bubble, label = \"Python\")\n",
    "\n",
    "## C++\n",
    "ax.plot(n_listas,lista_promedio_bubble_c, label = \"C++\")\n",
    "\n",
    "## Golang\n",
    "ax.plot(n_listas,lista_promedio_bubble_g, label = \"Golang\")\n",
    "ax.set_title('Bubble', loc = \"center\", fontdict = {'fontsize':14, 'fontweight':'bold', 'color':'tab:blue'})\n",
    "ax.legend(loc = 'upper left')\n",
    "plt.grid(True)\n",
    "plt.savefig('burbuja.jpg')\n",
    "plt.show()\n"
   ]
  },
  {
   "cell_type": "markdown",
   "id": "f9ddd13d",
   "metadata": {},
   "source": [
    "### Gráfico Merge (Python vs C++ vs Go)"
   ]
  },
  {
   "cell_type": "code",
   "execution_count": 86,
   "id": "e7b8d532",
   "metadata": {},
   "outputs": [
    {
     "data": {
      "image/png": "[encoded data removed]",
      "text/plain": [
       "<Figure size 640x480 with 1 Axes>"
      ]
     },
     "metadata": {},
     "output_type": "display_data"
    }
   ],
   "source": [
    "fig, ax = plt.subplots()\n",
    "\n",
    "## Pyhton\n",
    "ax.plot(n_listas,lista_promedio_Merge, label = \"Python\")\n",
    "\n",
    "## C++\n",
    "ax.plot(n_listas,lista_promedio_Merge_c, label = \"C++\")\n",
    "\n",
    "## Golang\n",
    "ax.plot(n_listas,lista_promedio_Merge_g, label = \"Golang\")\n",
    "ax.legend(loc = 'upper left')\n",
    "plt.grid(True)\n",
    "ax.set_title('Merge', loc = \"center\", fontdict = {'fontsize':14, 'fontweight':'bold', 'color':'tab:blue'})\n",
    "plt.savefig('merge.jpg')\n",
    "plt.show()\n"
   ]
  },
  {
   "cell_type": "markdown",
   "id": "a1e1a9bd",
   "metadata": {},
   "source": [
    "### Gráfico Selection (Python vs C++ vs Go)\n"
   ]
  },
  {
   "cell_type": "code",
   "execution_count": 87,
   "id": "7c1e7ab6",
   "metadata": {},
   "outputs": [
    {
     "data": {
      "image/png": "[encoded data removed]",
      "text/plain": [
       "<Figure size 640x480 with 1 Axes>"
      ]
     },
     "metadata": {},
     "output_type": "display_data"
    }
   ],
   "source": [
    "fig, ax = plt.subplots()\n",
    "\n",
    "## Pyhton\n",
    "ax.plot(n_listas,lista_promedio_selection, label = \"Python\")\n",
    "\n",
    "## C++\n",
    "ax.plot(n_listas,lista_promedio_selection_c , label = \"C++\")\n",
    "\n",
    "## Golang\n",
    "ax.plot(n_listas,lista_promedio_selection_g, label = \"Golang\")\n",
    "ax.legend(loc = 'upper left')\n",
    "plt.grid(True)\n",
    "ax.set_title('Selection', loc = \"center\", fontdict = {'fontsize':14, 'fontweight':'bold', 'color':'tab:blue'})\n",
    "plt.savefig('selection.jpg')\n",
    "\n",
    "plt.show()"
   ]
  },
  {
   "cell_type": "markdown",
   "id": "1919d542",
   "metadata": {},
   "source": [
    "### Gráfico Counting (Python vs C++ vs Go)\n",
    "\n",
    "###### El más veloz en Python"
   ]
  },
  {
   "cell_type": "code",
   "execution_count": 88,
   "id": "08782c4f",
   "metadata": {},
   "outputs": [
    {
     "data": {
      "image/png": "[encoded data removed]",
      "text/plain": [
       "<Figure size 640x480 with 1 Axes>"
      ]
     },
     "metadata": {},
     "output_type": "display_data"
    }
   ],
   "source": [
    "fig, ax = plt.subplots()\n",
    "\n",
    "## Pyhton\n",
    "ax.plot(n_listas,lista_promedio_counting, label = \"Python\")\n",
    "\n",
    "## C++\n",
    "ax.plot(n_listas,lista_promedio_counting_c, label = \"C++\")\n",
    "\n",
    "## Golang\n",
    "ax.plot(n_listas,lista_promedio_counting_g, label = \"Golang\")\n",
    "ax.legend(loc = 'upper left')\n",
    "plt.grid(True)\n",
    "ax.set_title('Counting', loc = \"center\", fontdict = {'fontsize':14, 'fontweight':'bold', 'color':'tab:blue'})\n",
    "plt.savefig('counting.jpg')\n",
    "\n",
    "plt.show()"
   ]
  },
  {
   "cell_type": "markdown",
   "id": "a10c0aab",
   "metadata": {},
   "source": [
    "## Graficos Lenguaje x Algoritmo"
   ]
  },
  {
   "cell_type": "markdown",
   "id": "0c5db47c",
   "metadata": {},
   "source": [
    "## Python"
   ]
  },
  {
   "cell_type": "code",
   "execution_count": 89,
   "id": "21851735",
   "metadata": {},
   "outputs": [
    {
     "data": {
      "image/png": "[encoded data removed]",
      "text/plain": [
       "<Figure size 640x480 with 1 Axes>"
      ]
     },
     "metadata": {},
     "output_type": "display_data"
    }
   ],
   "source": [
    "fig, ax = plt.subplots()\n",
    "\n",
    "## Bubble\n",
    "ax.plot(n_listas,lista_promedio_bubble, label = \"Bubble\")\n",
    "\n",
    "## Merge\n",
    "ax.plot(n_listas,lista_promedio_Merge, label = \"Merge\")\n",
    "\n",
    "## Selection\n",
    "ax.plot(n_listas,lista_promedio_selection, label = \"Selection\")\n",
    "\n",
    "## Counting\n",
    "ax.plot(n_listas,lista_promedio_counting, label = \"Counting\")\n",
    "\n",
    "ax.legend(loc = 'upper left')\n",
    "ax.set_title('Python', loc = \"center\", fontdict = {'fontsize':14, 'fontweight':'bold', 'color':'tab:blue'})\n",
    "plt.grid(True)\n",
    "plt.savefig('python.jpg')\n",
    "\n",
    "plt.show()"
   ]
  },
  {
   "cell_type": "markdown",
   "id": "682d5a23",
   "metadata": {},
   "source": [
    "## C++"
   ]
  },
  {
   "cell_type": "code",
   "execution_count": 90,
   "id": "44af9eeb",
   "metadata": {},
   "outputs": [
    {
     "data": {
      "image/png": "[encoded data removed]",
      "text/plain": [
       "<Figure size 640x480 with 1 Axes>"
      ]
     },
     "metadata": {},
     "output_type": "display_data"
    }
   ],
   "source": [
    "fig, ax = plt.subplots()\n",
    "\n",
    "## Bubble\n",
    "ax.plot(n_listas,lista_promedio_bubble_c, label = \"Bubble\")\n",
    "\n",
    "## Merge\n",
    "ax.plot(n_listas,lista_promedio_Merge_c, label = \"Merge\")\n",
    "\n",
    "## Selection\n",
    "ax.plot(n_listas,lista_promedio_selection_c, label = \"Selection\")\n",
    "\n",
    "## Counting\n",
    "ax.plot(n_listas,lista_promedio_counting_c, label = \"Counting\")\n",
    "\n",
    "ax.legend(loc = 'upper left')\n",
    "ax.set_title('C++', loc = \"center\", fontdict = {'fontsize':14, 'fontweight':'bold', 'color':'tab:blue'})\n",
    "plt.grid(True)\n",
    "plt.savefig('cppp.jpg')\n",
    "\n",
    "plt.show()"
   ]
  },
  {
   "cell_type": "markdown",
   "id": "ac502ea8",
   "metadata": {},
   "source": [
    "## Golang"
   ]
  },
  {
   "cell_type": "code",
   "execution_count": 91,
   "id": "ad9f0284",
   "metadata": {},
   "outputs": [
    {
     "data": {
      "image/png": "[encoded data removed]",
      "text/plain": [
       "<Figure size 640x480 with 1 Axes>"
      ]
     },
     "metadata": {},
     "output_type": "display_data"
    }
   ],
   "source": [
    "fig, ax = plt.subplots()\n",
    "\n",
    "## Bubble\n",
    "ax.plot(n_listas,lista_promedio_bubble_g, label = \"Bubble\")\n",
    "\n",
    "## Merge\n",
    "ax.plot(n_listas,lista_promedio_Merge_g, label = \"Merge\")\n",
    "\n",
    "## Selection\n",
    "ax.plot(n_listas,lista_promedio_selection_g, label = \"Selection\")\n",
    "\n",
    "## Counting\n",
    "ax.plot(n_listas,lista_promedio_counting_g, label = \"Counting\")\n",
    "\n",
    "ax.legend(loc = 'upper left')\n",
    "ax.set_title('Golang', loc = \"center\", fontdict = {'fontsize':14, 'fontweight':'bold', 'color':'tab:blue'})\n",
    "plt.grid(True)\n",
    "plt.savefig('golang.jpg')\n",
    "\n",
    "plt.show()"
   ]
  },
  {
   "cell_type": "code",
   "execution_count": null,
   "id": "57574556",
   "metadata": {},
   "outputs": [],
   "source": []
  },
  {
   "cell_type": "code",
   "execution_count": null,
   "id": "32d7da0f",
   "metadata": {},
   "outputs": [],
   "source": []
  }
 ],
 "metadata": {
  "kernelspec": {
   "display_name": "Python 3 (ipykernel)",
   "language": "python",
   "name": "python3"
  },
  "language_info": {
   "codemirror_mode": {
    "name": "ipython",
    "version": 3
   },
   "file_extension": ".py",
   "mimetype": "text/x-python",
   "name": "python",
   "nbconvert_exporter": "python",
   "pygments_lexer": "ipython3",
   "version": "3.11.3"
  }
 },
 "nbformat": 4,
 "nbformat_minor": 5
}
